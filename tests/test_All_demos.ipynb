{
 "cells": [
  {
   "cell_type": "code",
   "execution_count": 1,
   "metadata": {},
   "outputs": [
    {
     "name": "stdout",
     "output_type": "stream",
     "text": [
      "0 apple\n",
      "1 banana\n",
      "2 cherry\n"
     ]
    }
   ],
   "source": [
    "list1 = [\"apple\", \"banana\", \"cherry\"]\n",
    "for index, element in enumerate(list1):\n",
    "    print(index, element)"
   ]
  },
  {
   "cell_type": "code",
   "execution_count": 1,
   "metadata": {},
   "outputs": [
    {
     "name": "stdout",
     "output_type": "stream",
     "text": [
      "test_consistency\n"
     ]
    }
   ],
   "source": [
    "from pathlib import Path\n",
    "path = Path(\"/datassd2/sswang/NFT_Search/CLIP/tests/test_consistency.py\")\n",
    "print(path.stem)\n",
    "print(path.name)"
   ]
  },
  {
   "cell_type": "code",
   "execution_count": 5,
   "metadata": {},
   "outputs": [
    {
     "name": "stdout",
     "output_type": "stream",
     "text": [
      "<class 'list'>\n",
      "A portrait of a young adult with a skull motif mask covering their face, donning a white 0N1 logo pin on a turquoise thermal hoodie, with squinting azurite eyes and a smirk on their citrine lips. Their dreads, made of bronzite, frame their face, and their head is adorned with an obsidian snapback.\n",
      "A photograph of a person with a background of citrine, wearing a thermally hoodie in turquoise, with a skull mask covering their face and squinting azurite eyes. Their mouth sports a smirk, and their head is adorned with an obsidian snapback, while their hair is made of dreads in bronzite.\n",
      "A portrait of a person with a skull mask covering their face, their eyes squinting azurite and their lips curved into a smirk. They wear a turquoise thermal hoodie and their hair is styled into dreads made of bronzite. Their face is framed by an obsidian snapback, and they have a white 0N1 logo\n"
     ]
    }
   ],
   "source": [
    "import re\n",
    "\n",
    "list1 = [\n",
    "    \"1. 0N1 Force is a Jasper with an Obsidian bob and PR Mask (Citrine). He wears a Track Jacket (Obsidian) and has a void head and void extra. His style is 4, strength is 4, and spirit is 5.\",\n",
    "    \"2. 0N1 Force is a Jasper with a frown mouth and an eye shadow (Jasper) that matches his background. He wears a Track Jacket (Obsidian) and carries a PR Mask (Citrine) on his face. His bob (Obsidian) is void of hair, and he has a void extra. His strength is 4 and his spirit is 5, and his style is 4.\",\n",
    "    \"3. 0N1 Force is a Jasper with a track jacket (Obsidian) and a bob (Obsidian) that matches his background. He wears a PR Mask (Citrine) on his face, and his void extra is void of information. His frown mouth and eye shadow (Jasper) match his background, and his style is 4. His strength is 4 and his spirit is 5.\"\n",
    "]\n",
    "\n",
    "list2 = [\n",
    "        \"A portrait of a young adult with a skull motif mask covering their face, donning a white 0N1 logo pin on a turquoise thermal hoodie, with squinting azurite eyes and a smirk on their citrine lips. Their dreads, made of bronzite, frame their face, and their head is adorned with an obsidian snapback.\",\n",
    "        \"A photograph of a person with a background of citrine, wearing a thermally hoodie in turquoise, with a skull mask covering their face and squinting azurite eyes. Their mouth sports a smirk, and their head is adorned with an obsidian snapback, while their hair is made of dreads in bronzite.\",\n",
    "        \"A portrait of a person with a skull mask covering their face, their eyes squinting azurite and their lips curved into a smirk. They wear a turquoise thermal hoodie and their hair is styled into dreads made of bronzite. Their face is framed by an obsidian snapback, and they have a white 0N1 logo\"\n",
    "    ]\n",
    "\n",
    "new_lst = [re.sub(r'^\\d+\\. ', '', s) for s in list2]\n",
    "print(type(new_lst))\n",
    "for s in new_lst:\n",
    "    print(s)"
   ]
  },
  {
   "cell_type": "code",
   "execution_count": 1,
   "metadata": {},
   "outputs": [
    {
     "name": "stdout",
     "output_type": "stream",
     "text": [
      "apple 1 a\n",
      "banana 2 b\n",
      "cherry 3 c\n"
     ]
    }
   ],
   "source": [
    "list1 = [\"apple\", \"banana\", \"cherry\"]\n",
    "list2 = [\"1\", \"2\", \"3\"]\n",
    "list3 = [\"a\", \"b\", \"c\"]\n",
    "for x, y, z in zip(list1, list2, list3):\n",
    "    print(x, y, z)"
   ]
  },
  {
   "cell_type": "code",
   "execution_count": 11,
   "metadata": {},
   "outputs": [
    {
     "name": "stdout",
     "output_type": "stream",
     "text": [
      "[['apple', '1', 'a'], ['banana', '2', 'b'], ['cherry', '3', 'c'], ['orange', '4', 'd']]\n",
      "['apple', '1', 'a']\n",
      "['banana', '2', 'b']\n",
      "['cherry', '3', 'c']\n",
      "['orange', '4', 'd']\n"
     ]
    }
   ],
   "source": [
    "import numpy as np\n",
    "list4 = [\n",
    "    [\"apple\", \"banana\", \"cherry\", \"orange\"],\n",
    "    [\"1\", \"2\", \"3\", \"4\"],\n",
    "    [\"a\", \"b\", \"c\", \"d\"]\n",
    "]\n",
    "new_list = [list(x) for x in zip(*list4)]\n",
    "print(new_list)\n",
    "for item in new_list:\n",
    "    print(item)"
   ]
  },
  {
   "cell_type": "code",
   "execution_count": 1,
   "metadata": {},
   "outputs": [
    {
     "name": "stdout",
     "output_type": "stream",
     "text": [
      "[['apple'], ['orange'], ['banana'], ['cherry']]\n"
     ]
    }
   ],
   "source": [
    "list1 = [[\"apple\"], [\"banana\"], [\"cherry\"]]\n",
    "list1.insert(1, [\"orange\"])\n",
    "print(list1)"
   ]
  },
  {
   "cell_type": "code",
   "execution_count": null,
   "metadata": {},
   "outputs": [],
   "source": []
  },
  {
   "cell_type": "code",
   "execution_count": 9,
   "metadata": {},
   "outputs": [
    {
     "name": "stdout",
     "output_type": "stream",
     "text": [
      "tensor([[3.7417],\n",
      "        [4.2426]])\n",
      "tensor([[ 0.2673,  0.5345,  0.8018],\n",
      "        [-0.2357,  0.2357,  0.9428]])\n"
     ]
    }
   ],
   "source": [
    "import torch\n",
    "c = torch.tensor([[ 1, 2, 3], [-1, 1, 4]] , dtype=torch.float)\n",
    "print(c.norm(dim=-1, keepdim=True))\n",
    "c /= c.norm(dim=-1, keepdim=True)\n",
    "print(c)"
   ]
  },
  {
   "cell_type": "code",
   "execution_count": 8,
   "metadata": {},
   "outputs": [
    {
     "data": {
      "text/plain": [
       "tensor([[1.4142, 2.2361, 5.0000]])"
      ]
     },
     "execution_count": 8,
     "metadata": {},
     "output_type": "execute_result"
    }
   ],
   "source": [
    "c = torch.tensor([[ 1, 2, 3], [-1, 1, 4]] , dtype=torch.float)\n",
    "torch.norm(c, dim=0, keepdim=True)"
   ]
  },
  {
   "cell_type": "code",
   "execution_count": 11,
   "metadata": {},
   "outputs": [
    {
     "name": "stdout",
     "output_type": "stream",
     "text": [
      "(3, 1, 768)\n"
     ]
    }
   ],
   "source": [
    "import numpy as np\n",
    "print(np.array(list1).shape)"
   ]
  },
  {
   "cell_type": "code",
   "execution_count": 29,
   "metadata": {},
   "outputs": [
    {
     "name": "stdout",
     "output_type": "stream",
     "text": [
      "torch.Size([3, 3, 3])\n"
     ]
    }
   ],
   "source": [
    "list_tensor1 = torch.tensor([\n",
    "    [    \n",
    "        [\n",
    "            \n",
    "            0.257080078125,\n",
    "            0.128662109375,\n",
    "            0.456298828125\n",
    "            \n",
    "        ],\n",
    "        [   \n",
    "            \n",
    "            -0.515625,\n",
    "            -0.33642578125,\n",
    "            0.2396240234375\n",
    "            \n",
    "        ],\n",
    "        [\n",
    "            \n",
    "            -1.1982421875,\n",
    "            0.09759521484375,\n",
    "            -0.292236328125\n",
    "            \n",
    "        ]\n",
    "    ],\n",
    "    [    \n",
    "        [\n",
    "            \n",
    "            0.257080078125,\n",
    "            0.128662109375,\n",
    "            0.456298828125\n",
    "            \n",
    "        ],\n",
    "        [   \n",
    "            \n",
    "            -0.515625,\n",
    "            -0.33642578125,\n",
    "            0.2396240234375\n",
    "            \n",
    "        ],\n",
    "        [\n",
    "            \n",
    "            -1.1982421875,\n",
    "            0.09759521484375,\n",
    "            -0.292236328125\n",
    "            \n",
    "        ]\n",
    "    ],\n",
    "    [    \n",
    "        [\n",
    "            \n",
    "            0.257080078125,\n",
    "            0.128662109375,\n",
    "            0.456298828125\n",
    "            \n",
    "        ],\n",
    "        [   \n",
    "            \n",
    "            -0.515625,\n",
    "            -0.33642578125,\n",
    "            0.2396240234375\n",
    "            \n",
    "        ],\n",
    "        [\n",
    "            \n",
    "            -1.1982421875,\n",
    "            0.09759521484375,\n",
    "            -0.292236328125\n",
    "            \n",
    "        ]\n",
    "]\n",
    "])\n",
    "\n",
    "print(list_tensor1.shape)\n"
   ]
  },
  {
   "cell_type": "code",
   "execution_count": 30,
   "metadata": {},
   "outputs": [
    {
     "name": "stdout",
     "output_type": "stream",
     "text": [
      "torch.Size([3, 3, 3])\n",
      "tensor([[[ 0.2571,  0.1287,  0.4563],\n",
      "         [ 0.2571,  0.1287,  0.4563],\n",
      "         [ 0.2571,  0.1287,  0.4563]],\n",
      "\n",
      "        [[-0.5156, -0.3364,  0.2396],\n",
      "         [-0.5156, -0.3364,  0.2396],\n",
      "         [-0.5156, -0.3364,  0.2396]],\n",
      "\n",
      "        [[-1.1982,  0.0976, -0.2922],\n",
      "         [-1.1982,  0.0976, -0.2922],\n",
      "         [-1.1982,  0.0976, -0.2922]]])\n"
     ]
    }
   ],
   "source": [
    "combined_tensor = torch.stack(tuple(list_tensor1), dim=1)\n",
    "\n",
    "print(combined_tensor.shape)\n",
    "print(combined_tensor)"
   ]
  },
  {
   "cell_type": "code",
   "execution_count": 32,
   "metadata": {},
   "outputs": [
    {
     "name": "stdout",
     "output_type": "stream",
     "text": [
      "65.33\n"
     ]
    }
   ],
   "source": [
    "result = 65.33333333333333\n",
    "rounded_result = round(result, 2)\n",
    "print(rounded_result)"
   ]
  },
  {
   "cell_type": "code",
   "execution_count": 37,
   "metadata": {},
   "outputs": [
    {
     "name": "stdout",
     "output_type": "stream",
     "text": [
      "[1, 2, 3, 4, 5, 6]\n"
     ]
    }
   ],
   "source": [
    "img_features_1 = [1, 2, 3]\n",
    "img_features_2 = [4, 5, 6]\n",
    "img_features_3 = []\n",
    "# 将两个list合并成一个list\n",
    "img_features = img_features_1 + img_features_2 + img_features_3\n",
    "print(img_features)"
   ]
  },
  {
   "cell_type": "code",
   "execution_count": null,
   "metadata": {},
   "outputs": [],
   "source": []
  }
 ],
 "metadata": {
  "kernelspec": {
   "display_name": "NFT_search",
   "language": "python",
   "name": "python3"
  },
  "language_info": {
   "codemirror_mode": {
    "name": "ipython",
    "version": 3
   },
   "file_extension": ".py",
   "mimetype": "text/x-python",
   "name": "python",
   "nbconvert_exporter": "python",
   "pygments_lexer": "ipython3",
   "version": "3.9.16"
  },
  "orig_nbformat": 4
 },
 "nbformat": 4,
 "nbformat_minor": 2
}
