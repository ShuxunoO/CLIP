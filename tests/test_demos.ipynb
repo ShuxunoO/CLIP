{
 "cells": [
  {
   "cell_type": "code",
   "execution_count": 6,
   "metadata": {},
   "outputs": [
    {
     "name": "stdout",
     "output_type": "stream",
     "text": [
      "[[1 2 3]\n",
      " [4 5 6]\n",
      " [7 8 9]]\n",
      "[[11 22 33]\n",
      " [44 55 66]\n",
      " [77 88 99]]\n"
     ]
    }
   ],
   "source": [
    "import numpy as np\n",
    "\n",
    "a = np.array([[1, 2, 3], [4, 5, 6], [7, 8, 9]])\n",
    "b = np.array([[11, 22, 33], [44, 55, 66], [77, 88, 99]])\n",
    "\n",
    "print(a)\n",
    "\n",
    "print(b)"
   ]
  },
  {
   "cell_type": "code",
   "execution_count": 12,
   "metadata": {},
   "outputs": [
    {
     "name": "stdout",
     "output_type": "stream",
     "text": [
      "(2, 3, 3)\n",
      "[[[ 1  2  3]\n",
      "  [ 4  5  6]\n",
      "  [ 7  8  9]]\n",
      "\n",
      " [[11 22 33]\n",
      "  [44 55 66]\n",
      "  [77 88 99]]]\n",
      "\n",
      "\n",
      "\n",
      "(3, 2, 3)\n",
      "[[[ 1  2  3]\n",
      "  [11 22 33]]\n",
      "\n",
      " [[ 4  5  6]\n",
      "  [44 55 66]]\n",
      "\n",
      " [[ 7  8  9]\n",
      "  [77 88 99]]]\n",
      "\n",
      "\n",
      "\n",
      "(3, 3, 2)\n",
      "[[[ 1 11]\n",
      "  [ 2 22]\n",
      "  [ 3 33]]\n",
      "\n",
      " [[ 4 44]\n",
      "  [ 5 55]\n",
      "  [ 6 66]]\n",
      "\n",
      " [[ 7 77]\n",
      "  [ 8 88]\n",
      "  [ 9 99]]]\n",
      "\n",
      "\n",
      "\n"
     ]
    }
   ],
   "source": [
    "print(np.stack((a, b), axis=0).shape)\n",
    "c = np.stack((a, b), axis=0)\n",
    "print(c )\n",
    "print(\"\\n\\n\")\n",
    "\n",
    "\n",
    "print(np.stack((a, b), axis=1).shape)\n",
    "d = np.stack((a, b), axis=1)\n",
    "print(d)\n",
    "print(\"\\n\\n\")\n",
    "\n",
    "\n",
    "print(np.stack((a, b), axis=2).shape)\n",
    "e = np.stack((a, b), axis=2)\n",
    "print(e)\n",
    "print(\"\\n\\n\")\n"
   ]
  },
  {
   "cell_type": "code",
   "execution_count": 2,
   "metadata": {},
   "outputs": [
    {
     "name": "stderr",
     "output_type": "stream",
     "text": [
      "/home/sswang/anaconda3/envs/img_matching/lib/python3.9/site-packages/tqdm/auto.py:22: TqdmWarning: IProgress not found. Please update jupyter and ipywidgets. See https://ipywidgets.readthedocs.io/en/stable/user_install.html\n",
      "  from .autonotebook import tqdm as notebook_tqdm\n"
     ]
    },
    {
     "data": {
      "text/plain": [
       "True"
      ]
     },
     "execution_count": 2,
     "metadata": {},
     "output_type": "execute_result"
    }
   ],
   "source": [
    "import torch\n",
    "\n",
    "torch.cuda.is_available()"
   ]
  },
  {
   "cell_type": "code",
   "execution_count": 6,
   "metadata": {},
   "outputs": [
    {
     "name": "stdout",
     "output_type": "stream",
     "text": [
      "tensor([[ 0.8208, -0.3198,  0.4509, -0.8628, -0.7134],\n",
      "        [-0.2827,  0.6128,  0.0970, -0.0874,  0.9873],\n",
      "        [ 0.8208, -0.3198,  0.4509, -0.8628, -0.7134],\n",
      "        [-0.2827,  0.6128,  0.0970, -0.0874,  0.9873]])\n"
     ]
    }
   ],
   "source": [
    "list1 = [\n",
    "    [\n",
    "        0.82080078125,\n",
    "        -0.31982421875,\n",
    "        0.450927734375,\n",
    "        -0.86279296875,\n",
    "        -0.71337890625\n",
    "        ],\n",
    "    [\n",
    "        -0.28271484375,\n",
    "        0.61279296875,\n",
    "        0.0970458984375,\n",
    "        -0.08740234375,\n",
    "        0.9873046875]]\n",
    "\n",
    "\n",
    "list2 = [\n",
    "    [\n",
    "        0.82080078125,\n",
    "        -0.31982421875,\n",
    "        0.450927734375,\n",
    "        -0.86279296875,\n",
    "        -0.71337890625\n",
    "        ],\n",
    "    [\n",
    "        -0.28271484375,\n",
    "        0.61279296875,\n",
    "        0.0970458984375,\n",
    "        -0.08740234375,\n",
    "        0.9873046875]]\n",
    "\n",
    "tensor1 = torch.tensor(list1)\n",
    "tensor2 = torch.tensor(list2)\n",
    "\n",
    "concatenated_tensor = torch.cat((tensor1, tensor2), dim=0)\n",
    "print(concatenated_tensor)"
   ]
  }
 ],
 "metadata": {
  "kernelspec": {
   "display_name": "NFT_search",
   "language": "python",
   "name": "python3"
  },
  "language_info": {
   "codemirror_mode": {
    "name": "ipython",
    "version": 3
   },
   "file_extension": ".py",
   "mimetype": "text/x-python",
   "name": "python",
   "nbconvert_exporter": "python",
   "pygments_lexer": "ipython3",
   "version": "3.9.16"
  },
  "orig_nbformat": 4
 },
 "nbformat": 4,
 "nbformat_minor": 2
}
