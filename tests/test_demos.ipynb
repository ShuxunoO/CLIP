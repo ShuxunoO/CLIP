{
 "cells": [
  {
   "cell_type": "code",
   "execution_count": 6,
   "metadata": {},
   "outputs": [
    {
     "name": "stdout",
     "output_type": "stream",
     "text": [
      "[[1 2 3]\n",
      " [4 5 6]\n",
      " [7 8 9]]\n",
      "[[11 22 33]\n",
      " [44 55 66]\n",
      " [77 88 99]]\n"
     ]
    }
   ],
   "source": [
    "import numpy as np\n",
    "\n",
    "a = np.array([[1, 2, 3], [4, 5, 6], [7, 8, 9]])\n",
    "b = np.array([[11, 22, 33], [44, 55, 66], [77, 88, 99]])\n",
    "\n",
    "print(a)\n",
    "\n",
    "print(b)"
   ]
  },
  {
   "cell_type": "code",
   "execution_count": 12,
   "metadata": {},
   "outputs": [
    {
     "name": "stdout",
     "output_type": "stream",
     "text": [
      "(2, 3, 3)\n",
      "[[[ 1  2  3]\n",
      "  [ 4  5  6]\n",
      "  [ 7  8  9]]\n",
      "\n",
      " [[11 22 33]\n",
      "  [44 55 66]\n",
      "  [77 88 99]]]\n",
      "\n",
      "\n",
      "\n",
      "(3, 2, 3)\n",
      "[[[ 1  2  3]\n",
      "  [11 22 33]]\n",
      "\n",
      " [[ 4  5  6]\n",
      "  [44 55 66]]\n",
      "\n",
      " [[ 7  8  9]\n",
      "  [77 88 99]]]\n",
      "\n",
      "\n",
      "\n",
      "(3, 3, 2)\n",
      "[[[ 1 11]\n",
      "  [ 2 22]\n",
      "  [ 3 33]]\n",
      "\n",
      " [[ 4 44]\n",
      "  [ 5 55]\n",
      "  [ 6 66]]\n",
      "\n",
      " [[ 7 77]\n",
      "  [ 8 88]\n",
      "  [ 9 99]]]\n",
      "\n",
      "\n",
      "\n"
     ]
    }
   ],
   "source": [
    "print(np.stack((a, b), axis=0).shape)\n",
    "c = np.stack((a, b), axis=0)\n",
    "print(c )\n",
    "print(\"\\n\\n\")\n",
    "\n",
    "\n",
    "print(np.stack((a, b), axis=1).shape)\n",
    "d = np.stack((a, b), axis=1)\n",
    "print(d)\n",
    "print(\"\\n\\n\")\n",
    "\n",
    "\n",
    "print(np.stack((a, b), axis=2).shape)\n",
    "e = np.stack((a, b), axis=2)\n",
    "print(e)\n",
    "print(\"\\n\\n\")\n"
   ]
  },
  {
   "cell_type": "code",
   "execution_count": 1,
   "metadata": {},
   "outputs": [],
   "source": [
    "import torch\n",
    "\n",
    "torch.cuda.is_available()"
   ]
  }
 ],
 "metadata": {
  "kernelspec": {
   "display_name": "NFT_search",
   "language": "python",
   "name": "python3"
  },
  "language_info": {
   "codemirror_mode": {
    "name": "ipython",
    "version": 3
   },
   "file_extension": ".py",
   "mimetype": "text/x-python",
   "name": "python",
   "nbconvert_exporter": "python",
   "pygments_lexer": "ipython3",
   "version": "3.10.11"
  },
  "orig_nbformat": 4
 },
 "nbformat": 4,
 "nbformat_minor": 2
}
